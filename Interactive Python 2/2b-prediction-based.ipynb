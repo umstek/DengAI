{
 "cells": [
  {
   "cell_type": "code",
   "execution_count": 1,
   "metadata": {},
   "outputs": [],
   "source": [
    "version = 9"
   ]
  },
  {
   "cell_type": "code",
   "execution_count": 2,
   "metadata": {},
   "outputs": [],
   "source": [
    "import pandas as pd\n",
    "import numpy as np\n",
    "import seaborn as sns\n",
    "import matplotlib.pyplot as plt\n",
    "import matplotlib.dates as mdates\n",
    "\n",
    "%matplotlib inline"
   ]
  },
  {
   "cell_type": "code",
   "execution_count": 3,
   "metadata": {},
   "outputs": [],
   "source": [
    "from sklearn.linear_model import LinearRegression\n",
    "from sklearn.metrics import mean_absolute_error"
   ]
  },
  {
   "cell_type": "code",
   "execution_count": 4,
   "metadata": {},
   "outputs": [],
   "source": [
    "records_iq = pd.read_csv(\n",
    "    './generated/1-features-iq.csv', \n",
    "    parse_dates=['week_start_date'],\n",
    "    index_col='week_start_date'\n",
    ").interpolate()\n",
    "records_sj = pd.read_csv(\n",
    "    './generated/1-features-sj.csv', \n",
    "    parse_dates=['week_start_date'],\n",
    "    index_col='week_start_date'\n",
    ").interpolate()"
   ]
  },
  {
   "cell_type": "code",
   "execution_count": 5,
   "metadata": {},
   "outputs": [],
   "source": [
    "labels_iq = pd.read_csv(\n",
    "    './generated/1-labels-train-iq.csv',\n",
    "    parse_dates=['week_start_date'],\n",
    "    index_col='week_start_date'\n",
    ")\n",
    "labels_sj = pd.read_csv(\n",
    "    './generated/1-labels-train-sj.csv',\n",
    "    parse_dates=['week_start_date'],\n",
    "    index_col='week_start_date'\n",
    ")"
   ]
  },
  {
   "cell_type": "code",
   "execution_count": 6,
   "metadata": {},
   "outputs": [],
   "source": [
    "def predict_for(records, labels, ntrain, lencycle, features=['station_temp']):\n",
    "    lr_seasonal = LinearRegression()\n",
    "    weeks = pd.get_dummies(records['weekofyear'], prefix='w')\n",
    "    train_weeks = weeks[:ntrain].reset_index().drop('week_start_date', axis=1)\n",
    "    test_weeks = weeks[ntrain:].reset_index().drop('week_start_date', axis=1)\n",
    "    train_cases = labels[['total_cases']].reset_index().drop('week_start_date', axis=1)\n",
    "\n",
    "    lr_seasonal.fit(train_weeks, train_cases)\n",
    "    seasonal = pd.Series(\n",
    "        lr_seasonal.predict(train_weeks).flatten()).rolling(5, min_periods=1, center=True).mean()\n",
    "    remainder = train_cases.total_cases - seasonal\n",
    "\n",
    "    trend = records[features].reset_index().drop('week_start_date', axis=1).rolling(lencycle).mean()\n",
    "    train_trend = trend[lencycle:ntrain]\n",
    "    test_trend = trend[ntrain:]\n",
    "    train_remainder = remainder[lencycle:]\n",
    "\n",
    "    lr_trend = LinearRegression()\n",
    "    lr_trend.fit(train_trend, train_remainder)\n",
    "    \n",
    "    train_pred_trend = pd.Series(lr_trend.predict(train_trend).flatten())\n",
    "    print('mae: ' + str(mean_absolute_error(y_pred=train_pred_trend.values + seasonal[lencycle:].values,\n",
    "                    y_true=train_cases['total_cases'][lencycle:].values)))\n",
    "\n",
    "    pred_seasonal = pd.Series(lr_seasonal.predict(test_weeks).flatten())\n",
    "    pred_trend = pd.Series(lr_trend.predict(test_trend).flatten())\n",
    "\n",
    "    pred = (pred_trend + pred_seasonal).rolling(5, min_periods=1, center=True).mean()\n",
    "\n",
    "    return pred"
   ]
  },
  {
   "cell_type": "code",
   "execution_count": 7,
   "metadata": {},
   "outputs": [
    {
     "data": {
      "text/plain": [
       "Index(['weekofyear', 'precipitation_amt_mm', 'reanalysis_air_temp_k',\n",
       "       'reanalysis_dew_point_temp_k', 'reanalysis_max_air_temp_k',\n",
       "       'reanalysis_min_air_temp_k', 'reanalysis_precip_amt_kg_per_m2',\n",
       "       'reanalysis_relative_humidity_percent', 'reanalysis_tdtr_k',\n",
       "       'station_precip_mm', 'ndvi', 'station_temp'],\n",
       "      dtype='object')"
      ]
     },
     "execution_count": 7,
     "metadata": {},
     "output_type": "execute_result"
    }
   ],
   "source": [
    "records_iq.columns"
   ]
  },
  {
   "cell_type": "code",
   "execution_count": 8,
   "metadata": {},
   "outputs": [
    {
     "data": {
      "text/plain": [
       "Index(['weekofyear', 'precipitation_amt_mm', 'reanalysis_precip_amt_kg_per_m2',\n",
       "       'reanalysis_relative_humidity_percent', 'reanalysis_tdtr_k',\n",
       "       'station_precip_mm', 'ndvi_n', 'ndvi_s', 'reanalysis_temp',\n",
       "       'station_temp'],\n",
       "      dtype='object')"
      ]
     },
     "execution_count": 8,
     "metadata": {},
     "output_type": "execute_result"
    }
   ],
   "source": [
    "records_sj.columns"
   ]
  },
  {
   "cell_type": "code",
   "execution_count": 9,
   "metadata": {},
   "outputs": [
    {
     "name": "stdout",
     "output_type": "stream",
     "text": [
      "mae: 6.224245381445524\n",
      "mae: 25.265538836823143\n"
     ]
    }
   ],
   "source": [
    "# pred_iq = predict_for(records_iq, labels_iq, 520, 52, ['precipitation_amt_mm', 'reanalysis_air_temp_k',\n",
    "#        'reanalysis_dew_point_temp_k', 'reanalysis_max_air_temp_k',\n",
    "#        'reanalysis_min_air_temp_k', 'reanalysis_precip_amt_kg_per_m2',\n",
    "#        'reanalysis_relative_humidity_percent', 'reanalysis_tdtr_k',\n",
    "#        'station_precip_mm', 'ndvi', 'station_temp'])\n",
    "# pred_sj = predict_for(records_sj, labels_sj, 936, 52, ['precipitation_amt_mm', 'reanalysis_precip_amt_kg_per_m2',\n",
    "#        'reanalysis_relative_humidity_percent', 'reanalysis_tdtr_k',\n",
    "#        'station_precip_mm', 'ndvi_n', 'ndvi_s', 'reanalysis_temp',\n",
    "#        'station_temp'])\n",
    "\n",
    "pred_iq = predict_for(records_iq, labels_iq, 520, 53, [\n",
    "    'reanalysis_precip_amt_kg_per_m2',\n",
    "    'reanalysis_relative_humidity_percent', \n",
    "    'station_temp'])\n",
    "pred_sj = predict_for(records_sj, labels_sj, 936, 53, [\n",
    "    'reanalysis_precip_amt_kg_per_m2',\n",
    "    'reanalysis_relative_humidity_percent',\n",
    "    'station_temp'])"
   ]
  },
  {
   "cell_type": "code",
   "execution_count": 10,
   "metadata": {},
   "outputs": [],
   "source": [
    "pred = pd.concat([pred_sj, pred_iq], ignore_index=True).round().clip_lower(0)"
   ]
  },
  {
   "cell_type": "code",
   "execution_count": 11,
   "metadata": {},
   "outputs": [
    {
     "data": {
      "text/plain": [
       "<matplotlib.axes._subplots.AxesSubplot at 0x27596a48a20>"
      ]
     },
     "execution_count": 11,
     "metadata": {},
     "output_type": "execute_result"
    },
    {
     "data": {
      "image/png": "[encoded data removed]",
      "text/plain": [
       "<Figure size 1008x288 with 1 Axes>"
      ]
     },
     "metadata": {},
     "output_type": "display_data"
    }
   ],
   "source": [
    "pred.plot(figsize=(14, 4))"
   ]
  },
  {
   "cell_type": "code",
   "execution_count": 12,
   "metadata": {},
   "outputs": [],
   "source": [
    "pred.to_csv('./generated/2b-seasonal-trend-prediction-' + str(version) + '.csv', index=False)"
   ]
  },
  {
   "cell_type": "code",
   "execution_count": null,
   "metadata": {},
   "outputs": [],
   "source": []
  }
 ],
 "metadata": {
  "kernelspec": {
   "display_name": "Python 3",
   "language": "python",
   "name": "python3"
  },
  "language_info": {
   "codemirror_mode": {
    "name": "ipython",
    "version": 3
   },
   "file_extension": ".py",
   "mimetype": "text/x-python",
   "name": "python",
   "nbconvert_exporter": "python",
   "pygments_lexer": "ipython3",
   "version": "3.6.6"
  }
 },
 "nbformat": 4,
 "nbformat_minor": 2
}
