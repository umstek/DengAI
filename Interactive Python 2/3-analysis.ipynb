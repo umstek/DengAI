{
 "cells": [
  {
   "cell_type": "code",
   "execution_count": null,
   "metadata": {},
   "outputs": [],
   "source": [
    "import pandas as pd\n",
    "import numpy as np\n",
    "import seaborn as sns\n",
    "import matplotlib.pyplot as plt\n",
    "import matplotlib.dates as mdates\n",
    "\n",
    "%matplotlib inline"
   ]
  },
  {
   "cell_type": "code",
   "execution_count": null,
   "metadata": {},
   "outputs": [],
   "source": [
    "version = 8"
   ]
  },
  {
   "cell_type": "code",
   "execution_count": null,
   "metadata": {},
   "outputs": [],
   "source": [
    "records_iq = pd.read_csv(\n",
    "    './generated/1-features-iq.csv', \n",
    "    parse_dates=['week_start_date'], \n",
    "    index_col='week_start_date').interpolate()\n",
    "records_sj = pd.read_csv(\n",
    "    './generated/1-features-sj.csv', \n",
    "    parse_dates=['week_start_date'], \n",
    "    index_col='week_start_date').interpolate()"
   ]
  },
  {
   "cell_type": "code",
   "execution_count": null,
   "metadata": {},
   "outputs": [],
   "source": [
    "training_targets_iq = pd.read_csv(\n",
    "    './generated/1-labels-train-iq.csv', \n",
    "    parse_dates=['week_start_date'], \n",
    "    index_col='week_start_date')\n",
    "training_targets_sj = pd.read_csv(\n",
    "    './generated/1-labels-train-sj.csv', \n",
    "    parse_dates=['week_start_date'], \n",
    "    index_col='week_start_date')"
   ]
  },
  {
   "cell_type": "code",
   "execution_count": null,
   "metadata": {},
   "outputs": [],
   "source": [
    "stl_dec_iq = pd.read_csv(\n",
    "    './generated/2-time-dec-features-iq.csv', \n",
    "    parse_dates=['week_start_date'], \n",
    "    index_col='week_start_date')\n",
    "stl_dec_sj = pd.read_csv(\n",
    "    './generated/2-time-dec-features-sj.csv', \n",
    "    parse_dates=['week_start_date'], \n",
    "    index_col='week_start_date')"
   ]
  },
  {
   "cell_type": "code",
   "execution_count": null,
   "metadata": {},
   "outputs": [],
   "source": [
    "records_train_iq = pd.concat([records_iq.head(520), training_targets_iq[['total_cases']]], axis=1)\n",
    "records_train_sj = pd.concat([records_sj.head(936), training_targets_sj[['total_cases']]], axis=1)\n",
    "\n",
    "stl_dec_train_iq = pd.concat([stl_dec_iq.head(520), training_targets_iq[['total_cases']]], axis=1)\n",
    "stl_dec_train_sj = pd.concat([stl_dec_sj.head(936), training_targets_sj[['total_cases']]], axis=1)\n",
    "stl_dec_test_iq = stl_dec_iq.tail(156)\n",
    "stl_dec_test_sj = stl_dec_sj.tail(260)"
   ]
  },
  {
   "cell_type": "code",
   "execution_count": null,
   "metadata": {},
   "outputs": [],
   "source": [
    "def lagged_corr(df, skip_col, label_col, lag):\n",
    "    lcorr = pd.concat([\n",
    "        df.drop(skip_col, axis=1).shift(lag),\n",
    "        df[[label_col]]], axis=1).corr()\n",
    "\n",
    "    lcorr_label = lcorr[label_col].drop(label_col)\n",
    "\n",
    "    return lcorr_label"
   ]
  },
  {
   "cell_type": "code",
   "execution_count": null,
   "metadata": {},
   "outputs": [],
   "source": [
    "records_multi_lagged_corr_iq = pd.DataFrame(\n",
    "    {i: lagged_corr(records_train_iq, ['total_cases', 'weekofyear'], 'total_cases', i) for i in range(25)}\n",
    ").T"
   ]
  },
  {
   "cell_type": "code",
   "execution_count": null,
   "metadata": {},
   "outputs": [],
   "source": [
    "plt.figure(figsize=(16, 8))\n",
    "sns.heatmap(records_multi_lagged_corr_iq, robust=True, center=0)\n",
    "plt.title('Iquitos feature/label correlations')"
   ]
  },
  {
   "cell_type": "code",
   "execution_count": null,
   "metadata": {},
   "outputs": [],
   "source": [
    "records_multi_lagged_corr_sj = pd.DataFrame(\n",
    "    {i: lagged_corr(records_train_sj, ['total_cases', 'weekofyear'], 'total_cases', i) for i in range(25)}\n",
    ").T"
   ]
  },
  {
   "cell_type": "code",
   "execution_count": null,
   "metadata": {},
   "outputs": [],
   "source": [
    "plt.figure(figsize=(16, 8))\n",
    "sns.heatmap(records_multi_lagged_corr_sj, robust=True, center=0)\n",
    "plt.title('San Juan feature/label correlations')"
   ]
  },
  {
   "cell_type": "code",
   "execution_count": null,
   "metadata": {},
   "outputs": [],
   "source": [
    "stl_dec_multi_lagged_corr_iq = pd.DataFrame(\n",
    "    {i: lagged_corr(stl_dec_train_iq, ['total_cases'], 'total_cases', i) for i in range(25)}\n",
    ").T"
   ]
  },
  {
   "cell_type": "code",
   "execution_count": null,
   "metadata": {},
   "outputs": [],
   "source": [
    "plt.figure(figsize=(16, 8))\n",
    "sns.heatmap(stl_dec_multi_lagged_corr_iq, robust=True, center=0)\n",
    "plt.title('Iquitos STLdec/label correlations')"
   ]
  },
  {
   "cell_type": "code",
   "execution_count": null,
   "metadata": {},
   "outputs": [],
   "source": [
    "stl_dec_multi_lagged_corr_sj = pd.DataFrame(\n",
    "    {i: lagged_corr(stl_dec_train_sj, ['total_cases'], 'total_cases', i) for i in range(25)}\n",
    ").T"
   ]
  },
  {
   "cell_type": "code",
   "execution_count": null,
   "metadata": {},
   "outputs": [],
   "source": [
    "plt.figure(figsize=(16, 8))\n",
    "sns.heatmap(stl_dec_multi_lagged_corr_sj, robust=True, center=0)\n",
    "plt.title('San Juan STLdec/label correlations')"
   ]
  },
  {
   "cell_type": "code",
   "execution_count": null,
   "metadata": {},
   "outputs": [],
   "source": [
    "records_ml_corr_max_iq = pd.concat({\n",
    "    'max_iq': records_multi_lagged_corr_iq.max(),\n",
    "    'min_iq': records_multi_lagged_corr_iq.min(),\n",
    "}, axis=1)\n",
    "\n",
    "records_ml_corr_argmax_iq = pd.concat({\n",
    "    'argmax_iq': records_multi_lagged_corr_iq.idxmax(), \n",
    "    'argmin_iq': records_multi_lagged_corr_iq.idxmin(), \n",
    "}, axis=1)\n",
    "\n",
    "records_ml_corr_max_sj = pd.concat({\n",
    "    'max_sj':records_multi_lagged_corr_sj.max(),\n",
    "    'min_sj': records_multi_lagged_corr_sj.min(),\n",
    "}, axis=1)\n",
    "\n",
    "records_ml_corr_argmax_sj = pd.concat({\n",
    "    'argmax_sj': records_multi_lagged_corr_sj.idxmax(),  \n",
    "    'argmin_sj': records_multi_lagged_corr_sj.idxmin(), \n",
    "}, axis=1)\n",
    "\n",
    "pd.concat([records_ml_corr_argmax_iq, records_ml_corr_argmax_sj, records_ml_corr_max_iq, \n",
    "           records_ml_corr_max_sj], axis=1, sort=True)"
   ]
  },
  {
   "cell_type": "code",
   "execution_count": null,
   "metadata": {},
   "outputs": [],
   "source": [
    "stl_dec_ml_corr_max_iq = pd.concat({\n",
    "    'max_iq': stl_dec_multi_lagged_corr_iq.max(),\n",
    "    'min_iq': stl_dec_multi_lagged_corr_iq.min(),\n",
    "}, axis=1, sort=True)\n",
    "\n",
    "stl_dec_ml_corr_argmax_iq = pd.concat({\n",
    "    'argmax_iq': stl_dec_multi_lagged_corr_iq.idxmax(), \n",
    "    'argmin_iq': stl_dec_multi_lagged_corr_iq.idxmin(), \n",
    "}, axis=1, sort=True)\n",
    "\n",
    "stl_dec_ml_corr_max_sj = pd.concat({\n",
    "    'max_sj': stl_dec_multi_lagged_corr_sj.max(),\n",
    "    'min_sj': stl_dec_multi_lagged_corr_sj.min()\n",
    "}, axis=1, sort=True)\n",
    "\n",
    "stl_dec_ml_corr_argmax_sj = pd.concat({\n",
    "    'argmax_sj': stl_dec_multi_lagged_corr_sj.idxmax(), \n",
    "    'argmin_sj': stl_dec_multi_lagged_corr_sj.idxmin(), \n",
    "}, axis=1, sort=True)\n",
    "\n",
    "\n",
    "pd.concat([stl_dec_ml_corr_argmax_iq, stl_dec_ml_corr_argmax_iq, stl_dec_ml_corr_max_sj, \n",
    "           stl_dec_ml_corr_max_sj], axis=1, sort=True)"
   ]
  },
  {
   "cell_type": "code",
   "execution_count": null,
   "metadata": {},
   "outputs": [],
   "source": [
    "plt.figure(figsize=(16, 4))\n",
    "sns.heatmap(records_ml_corr_max_iq.T, \n",
    "            cmap=sns.color_palette('BrBG', n_colors=5), \n",
    "            robust=True, \n",
    "            square=True, \n",
    "            center=0,\n",
    "            annot=records_ml_corr_argmax_iq.T)\n",
    "plt.title('Maximum lagged cross correlation iq')"
   ]
  },
  {
   "cell_type": "code",
   "execution_count": null,
   "metadata": {},
   "outputs": [],
   "source": [
    "plt.figure(figsize=(16, 4))\n",
    "sns.heatmap(records_ml_corr_max_sj.T, \n",
    "            cmap=sns.color_palette('BrBG', n_colors=5), \n",
    "            robust=True, \n",
    "            square=True, \n",
    "            center=0,\n",
    "            annot=records_ml_corr_argmax_sj.T)\n",
    "plt.title('Maximum lagged cross correlation sj')"
   ]
  },
  {
   "cell_type": "code",
   "execution_count": null,
   "metadata": {},
   "outputs": [],
   "source": [
    "plt.figure(figsize=(16, 4))\n",
    "stl_dec_ml_corr_max_filter_iq = list(map(\n",
    "    lambda s: s.startswith('seasonal') or s.startswith('trend'), \n",
    "    stl_dec_ml_corr_max_iq.index.values))\n",
    "sns.heatmap(\n",
    "    stl_dec_ml_corr_max_iq[stl_dec_ml_corr_max_filter_iq].T, \n",
    "    cmap=sns.color_palette('BrBG', n_colors=5), \n",
    "    robust=True, \n",
    "    square=True, \n",
    "    center=0,\n",
    "    annot=stl_dec_ml_corr_argmax_iq[stl_dec_ml_corr_max_filter_iq].T)\n",
    "plt.title('Maximum lagged cross correlation for STL decomposed seasonal data iq')"
   ]
  },
  {
   "cell_type": "code",
   "execution_count": null,
   "metadata": {},
   "outputs": [],
   "source": [
    "plt.figure(figsize=(16, 4))\n",
    "stl_dec_ml_corr_max_filter_sj = list(map(\n",
    "    lambda s: s.startswith('seasonal') or s.startswith('trend'), \n",
    "    stl_dec_ml_corr_max_sj.index.values))\n",
    "sns.heatmap(\n",
    "    stl_dec_ml_corr_max_sj[stl_dec_ml_corr_max_filter_sj].T, \n",
    "    cmap=sns.color_palette('BrBG', n_colors=5), \n",
    "    robust=True, \n",
    "    square=True, \n",
    "    center=0,\n",
    "    annot=stl_dec_ml_corr_argmax_sj[stl_dec_ml_corr_max_filter_sj].T)\n",
    "plt.title('Maximum lagged cross correlation for STL decomposed seasonal data sj')"
   ]
  },
  {
   "cell_type": "code",
   "execution_count": null,
   "metadata": {},
   "outputs": [],
   "source": [
    "def feature_autoselect(corr_max, corr_argmax, city, ntake, max_lag):\n",
    "    pointer_min = 0\n",
    "    pointer_max = 0\n",
    "    f_selected = []\n",
    "    f_lags = []\n",
    "    f_count = len(corr_max)\n",
    "    corr_abs = corr_max.abs()\n",
    "    fc_max = corr_abs['max_' + city].sort_values(ascending=False)\n",
    "    fc_min = corr_abs['min_' + city].sort_values(ascending=False)\n",
    "    ca_max = corr_argmax['argmax_' + city]\n",
    "    ca_min = corr_argmax['argmin_' + city]\n",
    "    \n",
    "    while True:\n",
    "        if len(f_selected) >= ntake: break\n",
    "        if pointer_max >= f_count and pointer_min >= f_count: \n",
    "            break\n",
    "        elif pointer_max >= f_count and pointer_min < f_count:\n",
    "            if (fc_min.index.values[pointer_min] not in f_selected) \\\n",
    "            and (ca_min[fc_min.index[pointer_min]] <= max_lag):\n",
    "                f_selected.append(fc_min.index.values[pointer_min])\n",
    "                f_lags.append(ca_min[fc_min.index[pointer_min]])\n",
    "            \n",
    "            pointer_min += 1\n",
    "        elif pointer_min >= f_count and pointer_max < f_count:\n",
    "            if (fc_max.index.values[pointer_max] not in f_selected) \\\n",
    "            and (ca_max[fc_max.index[pointer_max]] <= max_lag):\n",
    "                f_selected.append(fc_max.index.values[pointer_max])\n",
    "                f_lags.append(ca_max[fc_max.index[pointer_max]])\n",
    "                \n",
    "            pointer_max += 1\n",
    "        else:\n",
    "            if fc_min[pointer_min] > fc_max[pointer_max]:\n",
    "                if (fc_min.index.values[pointer_min] not in f_selected) \\\n",
    "                and (ca_min[fc_min.index[pointer_min]] <= max_lag):\n",
    "                    f_selected.append(fc_min.index.values[pointer_min])\n",
    "                    f_lags.append(ca_min[fc_min.index[pointer_min]])\n",
    "                pointer_min += 1\n",
    "            else:\n",
    "                if (fc_max.index.values[pointer_max] not in f_selected) \\\n",
    "                and (ca_max[fc_max.index[pointer_max]] <= max_lag):\n",
    "                    f_selected.append(fc_max.index.values[pointer_max])\n",
    "                    f_lags.append(ca_max[fc_max.index[pointer_max]])\n",
    "                pointer_max += 1\n",
    "    \n",
    "    return dict(zip(f_selected, f_lags))"
   ]
  },
  {
   "cell_type": "code",
   "execution_count": null,
   "metadata": {},
   "outputs": [],
   "source": [
    "def select_lag(source_df, select_lag):\n",
    "    stl_ref_iq = pd.DataFrame(index=source_df.index)\n",
    "    for k, v in select_lag.items():\n",
    "        stl_ref_iq[k] = source_df[k].shift(v)\n",
    "\n",
    "    return stl_ref_iq"
   ]
  },
  {
   "cell_type": "code",
   "execution_count": null,
   "metadata": {},
   "outputs": [],
   "source": [
    "selected_f_stl_iq = feature_autoselect(corr_max=stl_dec_ml_corr_max_iq, \n",
    "                                       corr_argmax=stl_dec_ml_corr_argmax_iq, city='iq', max_lag=18, ntake=15)\n",
    "selected_f_stl_sj = feature_autoselect(corr_max=stl_dec_ml_corr_max_sj, \n",
    "                                       corr_argmax=stl_dec_ml_corr_argmax_sj, city='sj', max_lag=18, ntake=15)"
   ]
  },
  {
   "cell_type": "code",
   "execution_count": null,
   "metadata": {},
   "outputs": [],
   "source": [
    "selected_f_stl_iq"
   ]
  },
  {
   "cell_type": "code",
   "execution_count": null,
   "metadata": {},
   "outputs": [],
   "source": [
    "selected_f_stl_sj"
   ]
  },
  {
   "cell_type": "code",
   "execution_count": null,
   "metadata": {},
   "outputs": [],
   "source": [
    "refined_stl_iq = select_lag(stl_dec_iq, selected_f_stl_iq)\n",
    "refined_stl_sj = select_lag(stl_dec_sj, selected_f_stl_sj)"
   ]
  },
  {
   "cell_type": "code",
   "execution_count": null,
   "metadata": {},
   "outputs": [],
   "source": [
    "features_1_train_iq = pd.concat([\n",
    "    refined_stl_iq.head(520), records_iq.head(520)[['weekofyear']], training_targets_iq[['total_cases']]\n",
    "], axis=1).dropna()\n",
    "features_1_train_sj = pd.concat([\n",
    "    refined_stl_sj.head(936), records_sj.head(936)[['weekofyear']], training_targets_sj[['total_cases']]\n",
    "], axis=1).dropna()\n",
    "features_1_test_iq = pd.concat([refined_stl_iq.tail(156), records_iq.tail(156)[['weekofyear']]], axis=1)\n",
    "features_1_test_sj = pd.concat([refined_stl_sj.tail(260), records_sj.tail(260)[['weekofyear']]], axis=1)"
   ]
  },
  {
   "cell_type": "code",
   "execution_count": null,
   "metadata": {},
   "outputs": [],
   "source": [
    "features_1_train_iq.to_csv('./generated/3-refined-' + str(version) + '-train-iq.csv')\n",
    "features_1_train_sj.to_csv('./generated/3-refined-' + str(version) + '-train-sj.csv')\n",
    "features_1_test_iq.to_csv('./generated/3-refined-' + str(version) + '-test-iq.csv')\n",
    "features_1_test_sj.to_csv('./generated/3-refined-' + str(version) + '-test-sj.csv')"
   ]
  },
  {
   "cell_type": "code",
   "execution_count": null,
   "metadata": {},
   "outputs": [],
   "source": [
    "selected_f_org_iq = feature_autoselect(corr_max=records_ml_corr_max_iq, \n",
    "                                       corr_argmax=records_ml_corr_argmax_iq, city='iq', max_lag=18, ntake=4)\n",
    "selected_f_org_sj = feature_autoselect(corr_max=records_ml_corr_max_sj, \n",
    "                                       corr_argmax=records_ml_corr_argmax_sj, city='sj', max_lag=18, ntake=4)"
   ]
  },
  {
   "cell_type": "code",
   "execution_count": null,
   "metadata": {},
   "outputs": [],
   "source": [
    "selected_f_org_iq"
   ]
  },
  {
   "cell_type": "code",
   "execution_count": null,
   "metadata": {},
   "outputs": [],
   "source": [
    "selected_f_org_sj"
   ]
  },
  {
   "cell_type": "code",
   "execution_count": null,
   "metadata": {},
   "outputs": [],
   "source": [
    "refined_org_iq = select_lag(records_iq, selected_f_org_iq)\n",
    "refined_org_sj = select_lag(records_sj, selected_f_org_sj)"
   ]
  },
  {
   "cell_type": "code",
   "execution_count": null,
   "metadata": {},
   "outputs": [],
   "source": [
    "features_0_train_iq = pd.concat([\n",
    "    refined_org_iq.head(520), records_iq.head(520)[['weekofyear']], training_targets_iq[['total_cases']]\n",
    "], axis=1).dropna()\n",
    "features_0_train_sj = pd.concat([\n",
    "    refined_org_sj.head(936), records_sj.head(936)[['weekofyear']], training_targets_sj[['total_cases']]\n",
    "], axis=1).dropna()\n",
    "features_0_test_iq = pd.concat([refined_org_iq.tail(156), records_iq.tail(156)[['weekofyear']]], axis=1)\n",
    "features_0_test_sj = pd.concat([refined_org_sj.tail(260), records_sj.tail(260)[['weekofyear']]], axis=1)"
   ]
  },
  {
   "cell_type": "code",
   "execution_count": null,
   "metadata": {},
   "outputs": [],
   "source": [
    "features_0_train_iq.to_csv('./generated/3-refined-o-' + str(version) + '-train-iq.csv')\n",
    "features_0_train_sj.to_csv('./generated/3-refined-o-' + str(version) + '-train-sj.csv')\n",
    "features_0_test_iq.to_csv('./generated/3-refined-o-' + str(version) + '-test-iq.csv')\n",
    "features_0_test_sj.to_csv('./generated/3-refined-o-' + str(version) + '-test-sj.csv')"
   ]
  }
 ],
 "metadata": {
  "kernelspec": {
   "display_name": "Python 3",
   "language": "python",
   "name": "python3"
  },
  "language_info": {
   "codemirror_mode": {
    "name": "ipython",
    "version": 3
   },
   "file_extension": ".py",
   "mimetype": "text/x-python",
   "name": "python",
   "nbconvert_exporter": "python",
   "pygments_lexer": "ipython3",
   "version": "3.6.6"
  }
 },
 "nbformat": 4,
 "nbformat_minor": 2
}
