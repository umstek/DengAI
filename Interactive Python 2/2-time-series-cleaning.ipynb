{
 "cells": [
  {
   "cell_type": "markdown",
   "metadata": {},
   "source": [
    "Most of these data are time series. We can use R's STL to differentiate seasonal, trend and residual components. (It looks slightly better and smooth when compared with `statsmodels`'s seasonal_decompose.)"
   ]
  },
  {
   "cell_type": "code",
   "execution_count": null,
   "metadata": {},
   "outputs": [],
   "source": [
    "import pandas as pd\n",
    "import numpy as np\n",
    "import seaborn as sns\n",
    "import matplotlib.pyplot as plt\n",
    "import matplotlib.dates as mdates\n",
    "\n",
    "from rpy2.robjects import r\n",
    "\n",
    "from IPython.display import display, HTML\n",
    "%matplotlib inline"
   ]
  },
  {
   "cell_type": "code",
   "execution_count": null,
   "metadata": {},
   "outputs": [],
   "source": [
    "records_iq = pd.read_csv(\n",
    "    './generated/1-features-iq.csv', \n",
    "    parse_dates=['week_start_date'], \n",
    "    index_col='week_start_date')\n",
    "records_sj = pd.read_csv(\n",
    "    './generated/1-features-sj.csv', \n",
    "    parse_dates=['week_start_date'], \n",
    "    index_col='week_start_date')"
   ]
  },
  {
   "cell_type": "markdown",
   "metadata": {},
   "source": [
    "Impute data using linear interpolation to get a first approximation. "
   ]
  },
  {
   "cell_type": "code",
   "execution_count": null,
   "metadata": {},
   "outputs": [],
   "source": [
    "records_iq_i1 = records_iq.interpolate().drop(['weekofyear'], axis=1)\n",
    "records_sj_i1 = records_sj.interpolate().drop(['weekofyear'], axis=1)"
   ]
  },
  {
   "cell_type": "markdown",
   "metadata": {},
   "source": [
    "A moving average to smooth things out. "
   ]
  },
  {
   "cell_type": "code",
   "execution_count": null,
   "metadata": {},
   "outputs": [],
   "source": [
    "records_iq_i1 = records_iq_i1.rolling(5).mean().bfill()\n",
    "records_sj_i1 = records_sj_i1.rolling(5).mean().bfill()"
   ]
  },
  {
   "cell_type": "code",
   "execution_count": null,
   "metadata": {},
   "outputs": [],
   "source": [
    "def stl_decompose(df, column, freq=52):\n",
    "    dfd = pd.DataFrame(index=df.index)\n",
    "    series = list(df[column].values)\n",
    "    length = len(series)\n",
    "    rts = r.ts(series, frequency=freq)\n",
    "    decomposed = list(r.stl(rts, 'periodic', robust=True).rx2('time.series'))\n",
    "    dfd['trend'] = decomposed[length:2*length]\n",
    "    dfd['seasonal'] = decomposed[0:length]\n",
    "    dfd['residuals'] = decomposed[2*length:3*length]\n",
    "    \n",
    "    return dfd"
   ]
  },
  {
   "cell_type": "code",
   "execution_count": null,
   "metadata": {},
   "outputs": [],
   "source": [
    "def stl_multi_decompose(df):\n",
    "    trend = pd.DataFrame(index=df.index)\n",
    "    seasonal = pd.DataFrame(index=df.index)\n",
    "    residuals = pd.DataFrame(index=df.index)\n",
    "    \n",
    "    for col in df.columns:\n",
    "        dfd = stl_decompose(df, col)\n",
    "        trend[col] = dfd['trend']\n",
    "        seasonal[col] = dfd['seasonal']\n",
    "        residuals[col] = dfd['residuals']\n",
    "    \n",
    "    display(HTML(pd.DataFrame({\n",
    "        'trend_mean': trend.mean(), 'seasonal_mean': seasonal.mean(), 'residuals_mean': residuals.mean(), \n",
    "        'trend_std': trend.std(), 'seasonal_std': seasonal.std(), 'residuals_std': residuals.std()\n",
    "    }).to_html()))\n",
    "    return {'trend': trend, 'seasonal': seasonal, 'residuals': residuals}"
   ]
  },
  {
   "cell_type": "code",
   "execution_count": null,
   "metadata": {},
   "outputs": [],
   "source": [
    "def correlation_heatmap_drop(df, title, f):\n",
    "    corr = df.corr()\n",
    "    plt.figure(figsize=(8, 6))\n",
    "    corr_hm = sns.heatmap(corr)\n",
    "    plt.title(title)\n",
    "    \n",
    "    corr_upper = corr.where(np.triu(np.ones(corr.shape), k=1).astype(np.bool))\n",
    "    to_drop = [column for column in corr_upper.columns \n",
    "               if any(corr_upper[column] > f) or any(corr_upper[column] < -f)]\n",
    "    return to_drop"
   ]
  },
  {
   "cell_type": "code",
   "execution_count": null,
   "metadata": {},
   "outputs": [],
   "source": [
    "def drop_extreme_correlated(dec_df, f=0.95):\n",
    "    for k, v in dec_df.items():\n",
    "        to_drop = correlation_heatmap_drop(v, 'Iquitos' + k, f)\n",
    "        print('Dropping ' + str(to_drop) + ' in ' + k)\n",
    "        v.drop(to_drop, axis=1, inplace=True)"
   ]
  },
  {
   "cell_type": "code",
   "execution_count": null,
   "metadata": {},
   "outputs": [],
   "source": [
    "dec_iq = stl_multi_decompose(records_iq_i1)"
   ]
  },
  {
   "cell_type": "code",
   "execution_count": null,
   "metadata": {},
   "outputs": [],
   "source": [
    "drop_extreme_correlated(dec_iq)"
   ]
  },
  {
   "cell_type": "code",
   "execution_count": null,
   "metadata": {},
   "outputs": [],
   "source": [
    "dec_sj = stl_multi_decompose(records_sj_i1)"
   ]
  },
  {
   "cell_type": "code",
   "execution_count": null,
   "metadata": {},
   "outputs": [],
   "source": [
    "drop_extreme_correlated(dec_sj)"
   ]
  },
  {
   "cell_type": "markdown",
   "metadata": {},
   "source": [
    "NDVIs show correlations inside residuals. Maybe this is not exactly a time series. "
   ]
  },
  {
   "cell_type": "code",
   "execution_count": null,
   "metadata": {},
   "outputs": [],
   "source": [
    "stl_dec_iq = pd.concat(map(lambda kvp: kvp[1].add_prefix(kvp[0] + '_'), dec_iq.items()), axis=1)\n",
    "stl_dec_sj = pd.concat(map(lambda kvp: kvp[1].add_prefix(kvp[0] + '_'), dec_sj.items()), axis=1)"
   ]
  },
  {
   "cell_type": "code",
   "execution_count": null,
   "metadata": {},
   "outputs": [],
   "source": [
    "stl_dec_iq.describe()"
   ]
  },
  {
   "cell_type": "code",
   "execution_count": null,
   "metadata": {},
   "outputs": [],
   "source": [
    "stl_dec_sj.describe()"
   ]
  },
  {
   "cell_type": "code",
   "execution_count": null,
   "metadata": {},
   "outputs": [],
   "source": [
    "stl_dec_iq.plot(subplots=True, sharey=False, figsize=(12, 120))"
   ]
  },
  {
   "cell_type": "code",
   "execution_count": null,
   "metadata": {},
   "outputs": [],
   "source": [
    "stl_dec_sj.plot(subplots=True, sharey=False, figsize=(12, 120))"
   ]
  },
  {
   "cell_type": "code",
   "execution_count": null,
   "metadata": {},
   "outputs": [],
   "source": [
    "stl_dec_iq.to_csv('./generated/2-time-dec-features-iq.csv', index_label='week_start_date')\n",
    "stl_dec_sj.to_csv('./generated/2-time-dec-features-sj.csv', index_label='week_start_date')"
   ]
  },
  {
   "cell_type": "markdown",
   "metadata": {},
   "source": [
    "---"
   ]
  },
  {
   "cell_type": "markdown",
   "metadata": {},
   "source": [
    " Try loading total cases:"
   ]
  },
  {
   "cell_type": "code",
   "execution_count": null,
   "metadata": {},
   "outputs": [],
   "source": [
    "training_targets_iq = pd.read_csv(\n",
    "    './generated/1-labels-train-iq.csv', \n",
    "    parse_dates=['week_start_date'], \n",
    "    index_col='week_start_date')\n",
    "training_targets_sj = pd.read_csv(\n",
    "    './generated/1-labels-train-sj.csv', \n",
    "    parse_dates=['week_start_date'], \n",
    "    index_col='week_start_date')"
   ]
  },
  {
   "cell_type": "code",
   "execution_count": null,
   "metadata": {},
   "outputs": [],
   "source": [
    "# int not supported - float only\n",
    "training_targets_iq['total_cases'] += 0.0\n",
    "training_targets_sj['total_cases'] += 0.0"
   ]
  },
  {
   "cell_type": "code",
   "execution_count": null,
   "metadata": {},
   "outputs": [],
   "source": [
    "dec_targets_iq = stl_decompose(training_targets_iq, 'total_cases')\n",
    "dec_targets_sj = stl_decompose(training_targets_sj, 'total_cases')"
   ]
  },
  {
   "cell_type": "code",
   "execution_count": null,
   "metadata": {},
   "outputs": [],
   "source": [
    "dec_targets_iq.plot(figsize=(14, 10))"
   ]
  },
  {
   "cell_type": "code",
   "execution_count": null,
   "metadata": {},
   "outputs": [],
   "source": [
    "dec_targets_sj.plot(figsize=(14, 10))"
   ]
  },
  {
   "cell_type": "markdown",
   "metadata": {},
   "source": [
    "Looks pointless. "
   ]
  },
  {
   "cell_type": "code",
   "execution_count": null,
   "metadata": {},
   "outputs": [],
   "source": [
    "dec_targets_iq.to_csv('./generated/1-labels-iq.csv')\n",
    "dec_targets_sj.to_csv('./generated/1-labels-sj.csv')"
   ]
  },
  {
   "cell_type": "code",
   "execution_count": null,
   "metadata": {},
   "outputs": [],
   "source": []
  }
 ],
 "metadata": {
  "kernelspec": {
   "display_name": "Python 3",
   "language": "python",
   "name": "python3"
  },
  "language_info": {
   "codemirror_mode": {
    "name": "ipython",
    "version": 3
   },
   "file_extension": ".py",
   "mimetype": "text/x-python",
   "name": "python",
   "nbconvert_exporter": "python",
   "pygments_lexer": "ipython3",
   "version": "3.6.6"
  }
 },
 "nbformat": 4,
 "nbformat_minor": 2
}
