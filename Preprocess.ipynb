{
 "cells": [
  {
   "cell_type": "markdown",
   "metadata": {},
   "source": [
    "# Preprocess"
   ]
  },
  {
   "cell_type": "code",
   "execution_count": null,
   "metadata": {},
   "outputs": [],
   "source": [
    "%matplotlib inline\n",
    "\n",
    "import pandas\n",
    "import numpy\n",
    "import seaborn\n",
    "import matplotlib.pyplot as plotter"
   ]
  },
  {
   "cell_type": "markdown",
   "metadata": {},
   "source": [
    "## Import train and test data selectively (without labels)"
   ]
  },
  {
   "cell_type": "markdown",
   "metadata": {},
   "source": [
    "We import the data skipping the columns `year` and `week_start_date` for now. "
   ]
  },
  {
   "cell_type": "code",
   "execution_count": null,
   "metadata": {},
   "outputs": [],
   "source": [
    "selected_columns = list(range(0, 24))\n",
    "# selected_columns.remove(1) # year\n",
    "selected_columns.remove(3) # week_start_date"
   ]
  },
  {
   "cell_type": "code",
   "execution_count": null,
   "metadata": {},
   "outputs": [],
   "source": [
    "features_train = pandas.read_csv(filepath_or_buffer='dengue_features_train.csv', \n",
    "                                 usecols=selected_columns)"
   ]
  },
  {
   "cell_type": "code",
   "execution_count": null,
   "metadata": {},
   "outputs": [],
   "source": [
    "features_test = pandas.read_csv(filepath_or_buffer='dengue_features_test.csv', \n",
    "                                usecols=selected_columns)"
   ]
  },
  {
   "cell_type": "code",
   "execution_count": null,
   "metadata": {},
   "outputs": [],
   "source": [
    "features_train.columns"
   ]
  },
  {
   "cell_type": "markdown",
   "metadata": {},
   "source": [
    "Celsius to Kelvin conversion:"
   ]
  },
  {
   "cell_type": "code",
   "execution_count": null,
   "metadata": {},
   "outputs": [],
   "source": [
    "features_train[['station_avg_temp_c', 'station_diur_temp_rng_c', 'station_max_temp_c',\n",
    "       'station_min_temp_c']] += 273.15\n",
    "features_test[['station_avg_temp_c', 'station_diur_temp_rng_c', 'station_max_temp_c',\n",
    "       'station_min_temp_c']] += 273.15"
   ]
  },
  {
   "cell_type": "code",
   "execution_count": null,
   "metadata": {},
   "outputs": [],
   "source": [
    "features_train.head()"
   ]
  },
  {
   "cell_type": "markdown",
   "metadata": {},
   "source": [
    "## Separating data based on apparent differences"
   ]
  },
  {
   "cell_type": "code",
   "execution_count": null,
   "metadata": {},
   "outputs": [],
   "source": [
    "features_train.groupby('city').mean()"
   ]
  },
  {
   "cell_type": "markdown",
   "metadata": {},
   "source": [
    "The two cities `sj` and `iq` show different properties. So we separate them.  \n",
    "Since we split the dataframe by 'city', we don't need it anymore. "
   ]
  },
  {
   "cell_type": "code",
   "execution_count": null,
   "metadata": {},
   "outputs": [],
   "source": [
    "features_train_sj = features_train[features_train['city'] == 'sj'].drop('city', 1)\n",
    "features_train_iq = features_train[features_train['city'] == 'iq'].drop('city', 1)"
   ]
  },
  {
   "cell_type": "code",
   "execution_count": null,
   "metadata": {},
   "outputs": [],
   "source": [
    "features_test_sj = features_test[features_test['city'] == 'sj'].drop('city', 1)\n",
    "features_test_iq = features_test[features_test['city'] == 'iq'].drop('city', 1)"
   ]
  },
  {
   "cell_type": "markdown",
   "metadata": {},
   "source": [
    "## Feature engineering"
   ]
  },
  {
   "cell_type": "code",
   "execution_count": null,
   "metadata": {},
   "outputs": [],
   "source": [
    "correlations_sj_1 = features_train_sj.corr()\n",
    "correlations_iq_1 = features_train_iq.corr()\n",
    "correlations_sj_2 = features_test_sj.corr()\n",
    "correlations_iq_2 = features_test_iq.corr()"
   ]
  },
  {
   "cell_type": "markdown",
   "metadata": {},
   "source": [
    "### Iquitos"
   ]
  },
  {
   "cell_type": "code",
   "execution_count": null,
   "metadata": {},
   "outputs": [],
   "source": [
    "(features_train_iq.drop(['year', 'weekofyear'], axis=1)\n",
    "    .plot(kind='kde', subplots=True, figsize=(24, 40), layout=(10, 2), sharex=False))"
   ]
  },
  {
   "cell_type": "code",
   "execution_count": null,
   "metadata": {},
   "outputs": [],
   "source": [
    "plotter.figure(figsize=(8, 6))\n",
    "correlations_iq_heatmap_1 = seaborn.heatmap(correlations_iq_1)\n",
    "plotter.title('Iquitos correlations')"
   ]
  },
  {
   "cell_type": "code",
   "execution_count": null,
   "metadata": {},
   "outputs": [],
   "source": [
    "plotter.figure(figsize=(8, 6))\n",
    "correlations_iq_heatmap_2 = seaborn.heatmap(correlations_iq_2)\n",
    "plotter.title('Iquitos correlations')"
   ]
  },
  {
   "cell_type": "code",
   "execution_count": null,
   "metadata": {},
   "outputs": [],
   "source": [
    "plotter.figure()\n",
    "features_train_iq.loc[:, ['ndvi_ne', 'ndvi_nw', 'ndvi_se', 'ndvi_sw']].plot(figsize=(100, 5))"
   ]
  },
  {
   "cell_type": "code",
   "execution_count": null,
   "metadata": {},
   "outputs": [],
   "source": [
    "plotter.figure()\n",
    "features_test_iq.loc[:, ['ndvi_ne', 'ndvi_nw', 'ndvi_se', 'ndvi_sw']].plot(figsize=(100, 5))"
   ]
  },
  {
   "cell_type": "markdown",
   "metadata": {},
   "source": [
    "All `ndvi`s are awfully similar and this pattern is consistent even with the test data set. "
   ]
  },
  {
   "cell_type": "code",
   "execution_count": null,
   "metadata": {},
   "outputs": [],
   "source": [
    "features_train_iq['f_ndvi'] = features_train_iq[['ndvi_ne', 'ndvi_nw', 'ndvi_se', 'ndvi_sw']].mean(axis=1)\n",
    "plotter.figure()\n",
    "features_train_iq.plot.scatter(figsize=(100, 5), \n",
    "                               x=['weekofyear', 'weekofyear', 'weekofyear', 'weekofyear', 'weekofyear'], \n",
    "                               y=['ndvi_ne', 'ndvi_nw', 'ndvi_se', 'ndvi_sw', 'f_ndvi'], \n",
    "                               c=['red', 'green', 'blue', 'yellow', 'black'])"
   ]
  },
  {
   "cell_type": "code",
   "execution_count": null,
   "metadata": {},
   "outputs": [],
   "source": [
    "features_test_iq['f_ndvi'] = features_test_iq[['ndvi_ne', 'ndvi_nw', 'ndvi_se', 'ndvi_sw']].mean(axis=1)\n",
    "plotter.figure()\n",
    "features_test_iq.plot.scatter(figsize=(100, 5), \n",
    "                              x=['weekofyear', 'weekofyear', 'weekofyear', 'weekofyear', 'weekofyear'], \n",
    "                              y=['ndvi_ne', 'ndvi_nw', 'ndvi_se', 'ndvi_sw', 'f_ndvi'], \n",
    "                              c=['red', 'green', 'blue', 'yellow', 'black'])"
   ]
  },
  {
   "cell_type": "code",
   "execution_count": null,
   "metadata": {},
   "outputs": [],
   "source": [
    "plotter.figure()\n",
    "features_train_iq.plot(figsize=(100, 5), y='f_ndvi', c='black')"
   ]
  },
  {
   "cell_type": "code",
   "execution_count": null,
   "metadata": {},
   "outputs": [],
   "source": [
    "plotter.figure()\n",
    "features_test_iq.plot(figsize=(100, 5), y='f_ndvi', c='black')"
   ]
  },
  {
   "cell_type": "markdown",
   "metadata": {},
   "source": [
    "It looks like we can merge the four and just get an average. "
   ]
  },
  {
   "cell_type": "code",
   "execution_count": null,
   "metadata": {},
   "outputs": [],
   "source": [
    "features_train_iq = features_train_iq.drop(['ndvi_ne', 'ndvi_nw', 'ndvi_se', 'ndvi_sw'], axis=1)\n",
    "features_test_iq = features_test_iq.drop(['ndvi_ne', 'ndvi_nw', 'ndvi_se', 'ndvi_sw'], axis=1)"
   ]
  },
  {
   "cell_type": "code",
   "execution_count": null,
   "metadata": {},
   "outputs": [],
   "source": [
    "plotter.figure()\n",
    "features_train_iq.loc[:, ['precipitation_amt_mm', 'reanalysis_sat_precip_amt_mm']].plot(figsize=(100, 5))"
   ]
  },
  {
   "cell_type": "code",
   "execution_count": null,
   "metadata": {},
   "outputs": [],
   "source": [
    "plotter.figure()\n",
    "features_test_iq.loc[:, ['precipitation_amt_mm', 'reanalysis_sat_precip_amt_mm']].plot(figsize=(100, 5))"
   ]
  },
  {
   "cell_type": "markdown",
   "metadata": {},
   "source": [
    "Perfectly overlaps!"
   ]
  },
  {
   "cell_type": "code",
   "execution_count": null,
   "metadata": {},
   "outputs": [],
   "source": [
    "features_train_iq = features_train_iq.drop('reanalysis_sat_precip_amt_mm', axis=1)\n",
    "features_test_iq = features_test_iq.drop('reanalysis_sat_precip_amt_mm', axis=1)"
   ]
  },
  {
   "cell_type": "code",
   "execution_count": null,
   "metadata": {},
   "outputs": [],
   "source": [
    "plotter.figure()\n",
    "features_train_iq.loc[:, \n",
    "                      ['reanalysis_air_temp_k', 'reanalysis_avg_temp_k', \n",
    "                       'reanalysis_dew_point_temp_k', 'reanalysis_max_air_temp_k', \n",
    "                       'reanalysis_min_air_temp_k']].plot(figsize=(100, 5))"
   ]
  },
  {
   "cell_type": "code",
   "execution_count": null,
   "metadata": {},
   "outputs": [],
   "source": [
    "plotter.figure()\n",
    "features_test_iq.loc[:, \n",
    "                     ['reanalysis_air_temp_k', 'reanalysis_avg_temp_k', \n",
    "                      'reanalysis_dew_point_temp_k', 'reanalysis_max_air_temp_k', \n",
    "                      'reanalysis_min_air_temp_k']].plot(figsize=(100, 5))"
   ]
  },
  {
   "cell_type": "markdown",
   "metadata": {},
   "source": [
    "Patterns are similar. Especially, `reanalysis_air_temp_k` and `reanalysis_avg_temp_k` are very similar. `reanalysis_dew_point_temp_k` and `reanalysis_min_air_temp_k` are similar too. The pattern of `reanalysis_max_air_temp_k` is also roughly similar but has higher values. "
   ]
  },
  {
   "cell_type": "code",
   "execution_count": null,
   "metadata": {},
   "outputs": [],
   "source": [
    "features_train_iq['f_air_avg_temp'] = features_train_iq[\n",
    "    ['reanalysis_air_temp_k', 'reanalysis_avg_temp_k']].mean(axis=1)\n",
    "features_train_iq['f_dew_point_min_air_temp'] = features_train_iq[\n",
    "    ['reanalysis_dew_point_temp_k', 'reanalysis_min_air_temp_k']].mean(axis=1)\n",
    "plotter.figure()\n",
    "features_train_iq.loc[:, \n",
    "                      ['reanalysis_max_air_temp_k', 'f_air_avg_temp', \n",
    "                       'f_dew_point_min_air_temp']].plot(figsize=(100, 5))"
   ]
  },
  {
   "cell_type": "code",
   "execution_count": null,
   "metadata": {},
   "outputs": [],
   "source": [
    "features_test_iq['f_air_avg_temp'] = features_test_iq[\n",
    "    ['reanalysis_air_temp_k', 'reanalysis_avg_temp_k']].mean(axis=1)\n",
    "features_test_iq['f_dew_point_min_air_temp'] = features_test_iq[\n",
    "    ['reanalysis_dew_point_temp_k', 'reanalysis_min_air_temp_k']].mean(axis=1)\n",
    "plotter.figure()\n",
    "features_test_iq.loc[:, \n",
    "                     ['reanalysis_max_air_temp_k', 'f_air_avg_temp', \n",
    "                      'f_dew_point_min_air_temp']].plot(figsize=(100, 5))"
   ]
  },
  {
   "cell_type": "code",
   "execution_count": null,
   "metadata": {},
   "outputs": [],
   "source": [
    "features_train_iq = features_train_iq.drop(['reanalysis_air_temp_k', 'reanalysis_avg_temp_k', \n",
    "                                            'reanalysis_dew_point_temp_k', 'reanalysis_min_air_temp_k'],\n",
    "                                           axis=1)\n",
    "features_test_iq = features_test_iq.drop(['reanalysis_air_temp_k', 'reanalysis_avg_temp_k', \n",
    "                                          'reanalysis_dew_point_temp_k', 'reanalysis_min_air_temp_k'],\n",
    "                                         axis=1)"
   ]
  },
  {
   "cell_type": "code",
   "execution_count": null,
   "metadata": {},
   "outputs": [],
   "source": [
    "plotter.figure()\n",
    "features_train_iq.loc[:, ['reanalysis_precip_amt_kg_per_m2']].plot(figsize=(100, 5))"
   ]
  },
  {
   "cell_type": "code",
   "execution_count": null,
   "metadata": {},
   "outputs": [],
   "source": [
    "plotter.figure()\n",
    "features_test_iq.loc[:, ['reanalysis_precip_amt_kg_per_m2']].plot(figsize=(100, 5))"
   ]
  },
  {
   "cell_type": "code",
   "execution_count": null,
   "metadata": {},
   "outputs": [],
   "source": [
    "plotter.figure()\n",
    "features_train_iq.loc[:, ['reanalysis_relative_humidity_percent']].plot(figsize=(100, 5))"
   ]
  },
  {
   "cell_type": "code",
   "execution_count": null,
   "metadata": {},
   "outputs": [],
   "source": [
    "plotter.figure()\n",
    "features_test_iq.loc[:, ['reanalysis_relative_humidity_percent']].plot(figsize=(100, 5))"
   ]
  },
  {
   "cell_type": "code",
   "execution_count": null,
   "metadata": {},
   "outputs": [],
   "source": [
    "plotter.figure()\n",
    "features_train_iq.loc[:, ['reanalysis_specific_humidity_g_per_kg']].plot(figsize=(100, 5))"
   ]
  },
  {
   "cell_type": "code",
   "execution_count": null,
   "metadata": {},
   "outputs": [],
   "source": [
    "plotter.figure()\n",
    "features_test_iq.loc[:, ['reanalysis_specific_humidity_g_per_kg']].plot(figsize=(100, 5))"
   ]
  },
  {
   "cell_type": "markdown",
   "metadata": {},
   "source": [
    "We won't need this since this is highly correlated with the dew point, already included in temperature readings. "
   ]
  },
  {
   "cell_type": "code",
   "execution_count": null,
   "metadata": {},
   "outputs": [],
   "source": [
    "features_train_iq = features_train_iq.drop('reanalysis_specific_humidity_g_per_kg', axis=1)\n",
    "features_test_iq = features_test_iq.drop('reanalysis_specific_humidity_g_per_kg', axis=1)"
   ]
  },
  {
   "cell_type": "code",
   "execution_count": null,
   "metadata": {},
   "outputs": [],
   "source": [
    "plotter.figure()\n",
    "features_train_iq.loc[:, ['reanalysis_tdtr_k']].plot(figsize=(100, 5))"
   ]
  },
  {
   "cell_type": "code",
   "execution_count": null,
   "metadata": {},
   "outputs": [],
   "source": [
    "plotter.figure()\n",
    "features_test_iq.loc[:, ['reanalysis_tdtr_k']].plot(figsize=(100, 5))"
   ]
  },
  {
   "cell_type": "code",
   "execution_count": null,
   "metadata": {},
   "outputs": [],
   "source": [
    "plotter.figure()\n",
    "features_train_iq.loc[:, ['station_avg_temp_c', 'station_diur_temp_rng_c', \n",
    "                          'station_max_temp_c', 'station_min_temp_c']].plot(figsize=(100, 5))"
   ]
  },
  {
   "cell_type": "code",
   "execution_count": null,
   "metadata": {},
   "outputs": [],
   "source": [
    "plotter.figure()\n",
    "features_test_iq.loc[:, ['station_avg_temp_c', 'station_diur_temp_rng_c', \n",
    "                         'station_max_temp_c', 'station_min_temp_c']].plot(figsize=(100, 5))"
   ]
  },
  {
   "cell_type": "markdown",
   "metadata": {},
   "source": [
    "Looks like straight lines with noise. Probably all of these can be eliminated -- or can be combined to make a new feature. **Look at the names! You can just use `avg`.** But since some data is missing from `avg`, a new combined average can be used. Some interpolation is also needed. "
   ]
  },
  {
   "cell_type": "code",
   "execution_count": null,
   "metadata": {},
   "outputs": [],
   "source": [
    "features_train_iq['f_station_temp'] = features_train_iq[\n",
    "    ['station_avg_temp_c', 'station_max_temp_c', 'station_min_temp_c']].interpolate().mean(axis=1)\n",
    "features_test_iq['f_station_temp'] = features_test_iq[\n",
    "    ['station_avg_temp_c', 'station_max_temp_c', 'station_min_temp_c']].interpolate().mean(axis=1)"
   ]
  },
  {
   "cell_type": "code",
   "execution_count": null,
   "metadata": {},
   "outputs": [],
   "source": [
    "plotter.figure()\n",
    "features_train_iq.loc[:, ['f_station_temp', 'station_diur_temp_rng_c']].plot(figsize=(100, 5))"
   ]
  },
  {
   "cell_type": "code",
   "execution_count": null,
   "metadata": {},
   "outputs": [],
   "source": [
    "plotter.figure()\n",
    "features_test_iq.loc[:, ['f_station_temp', 'station_diur_temp_rng_c']].plot(figsize=(100, 5))"
   ]
  },
  {
   "cell_type": "code",
   "execution_count": null,
   "metadata": {},
   "outputs": [],
   "source": [
    "features_train_iq = features_train_iq.drop(['station_avg_temp_c', \n",
    "                                            'station_max_temp_c', 'station_min_temp_c'], axis=1)\n",
    "features_test_iq = features_test_iq.drop(['station_avg_temp_c', \n",
    "                                          'station_max_temp_c', 'station_min_temp_c'], axis=1)"
   ]
  },
  {
   "cell_type": "code",
   "execution_count": null,
   "metadata": {},
   "outputs": [],
   "source": [
    "plotter.figure()\n",
    "features_train_iq.loc[:, ['station_precip_mm']].plot(figsize=(100, 5))"
   ]
  },
  {
   "cell_type": "code",
   "execution_count": null,
   "metadata": {},
   "outputs": [],
   "source": [
    "plotter.figure()\n",
    "features_test_iq.loc[:, ['station_precip_mm']].plot(figsize=(100, 5))"
   ]
  },
  {
   "cell_type": "code",
   "execution_count": null,
   "metadata": {},
   "outputs": [],
   "source": [
    "features_train_iq.columns"
   ]
  },
  {
   "cell_type": "code",
   "execution_count": null,
   "metadata": {},
   "outputs": [],
   "source": [
    "features_test_iq.columns"
   ]
  },
  {
   "cell_type": "markdown",
   "metadata": {},
   "source": [
    "### San Juan"
   ]
  },
  {
   "cell_type": "code",
   "execution_count": null,
   "metadata": {},
   "outputs": [],
   "source": [
    "(features_train_sj.drop(['year', 'weekofyear'], axis=1)\n",
    "    .plot(kind='kde', subplots=True, figsize=(24, 40), layout=(10, 2), sharex=False))"
   ]
  },
  {
   "cell_type": "code",
   "execution_count": null,
   "metadata": {},
   "outputs": [],
   "source": [
    "plotter.figure(figsize=(8, 6))\n",
    "correlations_sj_heatmap_1 = seaborn.heatmap(correlations_sj_1)\n",
    "plotter.title('San Juan correlations')"
   ]
  },
  {
   "cell_type": "code",
   "execution_count": null,
   "metadata": {},
   "outputs": [],
   "source": [
    "plotter.figure(figsize=(8, 6))\n",
    "correlations_sj_heatmap_2 = seaborn.heatmap(correlations_sj_2)\n",
    "plotter.title('San Juan correlations')"
   ]
  },
  {
   "cell_type": "code",
   "execution_count": null,
   "metadata": {},
   "outputs": [],
   "source": [
    "plotter.figure()\n",
    "features_train_sj.loc[:, ['ndvi_ne', 'ndvi_nw', 'ndvi_se', 'ndvi_sw']].plot(figsize=(100, 5))"
   ]
  },
  {
   "cell_type": "code",
   "execution_count": null,
   "metadata": {},
   "outputs": [],
   "source": [
    "plotter.figure()\n",
    "features_test_sj.loc[:, ['ndvi_ne', 'ndvi_nw', 'ndvi_se', 'ndvi_sw']].plot(figsize=(100, 5))"
   ]
  },
  {
   "cell_type": "markdown",
   "metadata": {},
   "source": [
    "Unlike the Iquitos data set, all features cannot be combined. Instead, `ndvi_ne` + `ndvi_nw` and `ndvi_se` + `ndvi_sw` can make pairs. The data looks inaccurate and much of the data is missing. "
   ]
  },
  {
   "cell_type": "code",
   "execution_count": null,
   "metadata": {},
   "outputs": [],
   "source": [
    "features_train_sj['f_ndvi_n'] = features_train_sj[['ndvi_ne', 'ndvi_nw']].interpolate().mean(axis=1)\n",
    "features_train_sj['f_ndvi_s'] = features_train_sj[['ndvi_se', 'ndvi_sw']].interpolate().mean(axis=1)\n",
    "plotter.figure()\n",
    "features_train_sj.plot.scatter(figsize=(100, 5), \n",
    "                               x=['weekofyear', 'weekofyear', 'weekofyear', 'weekofyear', \n",
    "                                  'weekofyear', 'weekofyear'], \n",
    "                               y=['ndvi_ne', 'ndvi_nw', 'ndvi_se', 'ndvi_sw', 'f_ndvi_n', \n",
    "                                  'f_ndvi_s'], \n",
    "                               c=['red', 'green', 'blue', 'yellow', 'black', 'brown'])"
   ]
  },
  {
   "cell_type": "code",
   "execution_count": null,
   "metadata": {},
   "outputs": [],
   "source": [
    "features_test_sj['f_ndvi_n'] = features_test_sj[['ndvi_ne', 'ndvi_nw']].interpolate().mean(axis=1)\n",
    "features_test_sj['f_ndvi_s'] = features_test_sj[['ndvi_se', 'ndvi_sw']].interpolate().mean(axis=1)\n",
    "plotter.figure()\n",
    "features_test_sj.plot.scatter(figsize=(100, 5), \n",
    "                              x=['weekofyear', 'weekofyear', 'weekofyear', 'weekofyear', \n",
    "                                 'weekofyear', 'weekofyear'], \n",
    "                              y=['ndvi_ne', 'ndvi_nw', 'ndvi_se', 'ndvi_sw', 'f_ndvi_n',\n",
    "                                 'f_ndvi_s'], \n",
    "                              c=['red', 'green', 'blue', 'yellow', 'black', 'brown'])"
   ]
  },
  {
   "cell_type": "code",
   "execution_count": null,
   "metadata": {},
   "outputs": [],
   "source": [
    "plotter.figure()\n",
    "features_train_sj.loc[:, ['f_ndvi_n', 'f_ndvi_s']].plot(figsize=(100, 5))"
   ]
  },
  {
   "cell_type": "code",
   "execution_count": null,
   "metadata": {},
   "outputs": [],
   "source": [
    "plotter.figure()\n",
    "features_test_sj.loc[:, ['f_ndvi_n', 'f_ndvi_s']].plot(figsize=(100, 5))"
   ]
  },
  {
   "cell_type": "code",
   "execution_count": null,
   "metadata": {},
   "outputs": [],
   "source": [
    "features_train_sj = features_train_sj.drop(['ndvi_ne', 'ndvi_nw', 'ndvi_se', 'ndvi_sw',], axis=1)\n",
    "features_test_sj = features_test_sj.drop(['ndvi_ne', 'ndvi_nw', 'ndvi_se', 'ndvi_sw',], axis=1)"
   ]
  },
  {
   "cell_type": "code",
   "execution_count": null,
   "metadata": {},
   "outputs": [],
   "source": [
    "plotter.figure()\n",
    "features_train_sj.loc[:, ['precipitation_amt_mm', 'reanalysis_sat_precip_amt_mm']].plot(figsize=(100, 5))"
   ]
  },
  {
   "cell_type": "code",
   "execution_count": null,
   "metadata": {},
   "outputs": [],
   "source": [
    "plotter.figure()\n",
    "features_test_sj.loc[:, ['precipitation_amt_mm', 'reanalysis_sat_precip_amt_mm']].plot(figsize=(100, 5))"
   ]
  },
  {
   "cell_type": "markdown",
   "metadata": {},
   "source": [
    "Redundant data -- all the same. "
   ]
  },
  {
   "cell_type": "code",
   "execution_count": null,
   "metadata": {},
   "outputs": [],
   "source": [
    "features_train_sj = features_train_sj.drop('reanalysis_sat_precip_amt_mm', axis=1)\n",
    "features_test_sj = features_test_sj.drop('reanalysis_sat_precip_amt_mm', axis=1)"
   ]
  },
  {
   "cell_type": "code",
   "execution_count": null,
   "metadata": {},
   "outputs": [],
   "source": [
    "plotter.figure()\n",
    "features_train_sj.loc[:, ['reanalysis_air_temp_k', 'reanalysis_avg_temp_k', \n",
    "                          'reanalysis_dew_point_temp_k', 'reanalysis_max_air_temp_k', \n",
    "                          'reanalysis_min_air_temp_k']].plot(figsize=(100, 5))"
   ]
  },
  {
   "cell_type": "code",
   "execution_count": null,
   "metadata": {},
   "outputs": [],
   "source": [
    "plotter.figure()\n",
    "features_test_sj.loc[:, ['reanalysis_air_temp_k', 'reanalysis_avg_temp_k', \n",
    "                         'reanalysis_dew_point_temp_k', 'reanalysis_max_air_temp_k', \n",
    "                         'reanalysis_min_air_temp_k']].plot(figsize=(100, 5))"
   ]
  },
  {
   "cell_type": "markdown",
   "metadata": {},
   "source": [
    "Since the patterns are very similar, merging them should yield no harm. "
   ]
  },
  {
   "cell_type": "code",
   "execution_count": null,
   "metadata": {},
   "outputs": [],
   "source": [
    "features_train_sj['f_temp'] = features_train_sj[\n",
    "    ['reanalysis_air_temp_k', 'reanalysis_avg_temp_k', 'reanalysis_dew_point_temp_k', \n",
    "     'reanalysis_max_air_temp_k', 'reanalysis_min_air_temp_k']].mean(axis=1)\n",
    "plotter.figure()\n",
    "features_train_sj.loc[:, ['f_temp']].plot(figsize=(100, 5))"
   ]
  },
  {
   "cell_type": "code",
   "execution_count": null,
   "metadata": {},
   "outputs": [],
   "source": [
    "features_test_sj['f_temp'] = features_test_sj[\n",
    "    ['reanalysis_air_temp_k', 'reanalysis_avg_temp_k', 'reanalysis_dew_point_temp_k', \n",
    "     'reanalysis_max_air_temp_k', 'reanalysis_min_air_temp_k']].mean(axis=1)\n",
    "plotter.figure()\n",
    "features_test_sj.loc[:, ['f_temp']].plot(figsize=(100, 5))"
   ]
  },
  {
   "cell_type": "code",
   "execution_count": null,
   "metadata": {},
   "outputs": [],
   "source": [
    "features_train_sj = features_train_sj.drop(['reanalysis_air_temp_k', 'reanalysis_avg_temp_k', \n",
    "                                            'reanalysis_dew_point_temp_k', 'reanalysis_max_air_temp_k', \n",
    "                                            'reanalysis_min_air_temp_k'],\n",
    "                                           axis=1)\n",
    "features_test_sj = features_test_sj.drop(['reanalysis_air_temp_k', 'reanalysis_avg_temp_k', \n",
    "                                          'reanalysis_dew_point_temp_k', 'reanalysis_max_air_temp_k', \n",
    "                                          'reanalysis_min_air_temp_k'],\n",
    "                                         axis=1)"
   ]
  },
  {
   "cell_type": "code",
   "execution_count": null,
   "metadata": {},
   "outputs": [],
   "source": [
    "plotter.figure()\n",
    "features_train_sj.loc[:, ['reanalysis_precip_amt_kg_per_m2']].plot(figsize=(100, 5))"
   ]
  },
  {
   "cell_type": "code",
   "execution_count": null,
   "metadata": {},
   "outputs": [],
   "source": [
    "plotter.figure()\n",
    "features_test_sj.loc[:, ['reanalysis_precip_amt_kg_per_m2']].plot(figsize=(100, 5))"
   ]
  },
  {
   "cell_type": "code",
   "execution_count": null,
   "metadata": {},
   "outputs": [],
   "source": [
    "plotter.figure()\n",
    "features_train_sj.loc[:, ['reanalysis_relative_humidity_percent']].plot(figsize=(100, 5))"
   ]
  },
  {
   "cell_type": "code",
   "execution_count": null,
   "metadata": {},
   "outputs": [],
   "source": [
    "plotter.figure()\n",
    "features_test_sj.loc[:, ['reanalysis_relative_humidity_percent']].plot(figsize=(100, 5))"
   ]
  },
  {
   "cell_type": "code",
   "execution_count": null,
   "metadata": {},
   "outputs": [],
   "source": [
    "plotter.figure()\n",
    "features_train_sj.loc[:, ['reanalysis_specific_humidity_g_per_kg']].plot(figsize=(100, 5))"
   ]
  },
  {
   "cell_type": "code",
   "execution_count": null,
   "metadata": {},
   "outputs": [],
   "source": [
    "plotter.figure()\n",
    "features_test_sj.loc[:, ['reanalysis_specific_humidity_g_per_kg']].plot(figsize=(100, 5))"
   ]
  },
  {
   "cell_type": "markdown",
   "metadata": {},
   "source": [
    "Similar to the parameters in Iquitos, we can omit this. "
   ]
  },
  {
   "cell_type": "code",
   "execution_count": null,
   "metadata": {},
   "outputs": [],
   "source": [
    "features_train_sj = features_train_sj.drop(['reanalysis_specific_humidity_g_per_kg'], axis=1)\n",
    "features_test_sj =  features_test_sj.drop(['reanalysis_specific_humidity_g_per_kg'], axis=1)"
   ]
  },
  {
   "cell_type": "code",
   "execution_count": null,
   "metadata": {},
   "outputs": [],
   "source": [
    "plotter.figure()\n",
    "features_train_sj.loc[:, ['reanalysis_tdtr_k']].plot(figsize=(100, 5))"
   ]
  },
  {
   "cell_type": "code",
   "execution_count": null,
   "metadata": {},
   "outputs": [],
   "source": [
    "plotter.figure()\n",
    "features_test_sj.loc[:, ['reanalysis_tdtr_k']].plot(figsize=(100, 5))"
   ]
  },
  {
   "cell_type": "markdown",
   "metadata": {},
   "source": [
    "Looks very random. "
   ]
  },
  {
   "cell_type": "code",
   "execution_count": null,
   "metadata": {},
   "outputs": [],
   "source": [
    "plotter.figure()\n",
    "features_train_sj.loc[:, ['station_avg_temp_c', 'station_diur_temp_rng_c', \n",
    "                          'station_max_temp_c', 'station_min_temp_c']].plot(figsize=(100, 5))"
   ]
  },
  {
   "cell_type": "code",
   "execution_count": null,
   "metadata": {},
   "outputs": [],
   "source": [
    "plotter.figure()\n",
    "features_test_sj.loc[:, ['station_avg_temp_c', 'station_diur_temp_rng_c', \n",
    "                         'station_max_temp_c', 'station_min_temp_c']].plot(figsize=(100, 5))"
   ]
  },
  {
   "cell_type": "markdown",
   "metadata": {},
   "source": [
    "Unlike in Iquitos, these lines don't seem like straight lines with noise (maybe except `station_diur_temp_rng_c`). 3 of them can be combined. **In another look, the 3 that can be combined don't need a combination: instead of `max`, `avg` and `min`, just `avg` alone can be used.** This must be true also for Iquitos. "
   ]
  },
  {
   "cell_type": "code",
   "execution_count": null,
   "metadata": {},
   "outputs": [],
   "source": [
    "features_train_sj['f_station_temp'] = features_train_sj[['station_avg_temp_c']].interpolate()\n",
    "features_test_sj['f_station_temp'] = features_test_sj[['station_avg_temp_c']].interpolate()\n",
    "features_train_sj = features_train_sj.drop([\n",
    "    'station_avg_temp_c', 'station_max_temp_c', 'station_min_temp_c'], axis=1)\n",
    "features_test_sj = features_test_sj.drop([\n",
    "    'station_avg_temp_c', 'station_max_temp_c', 'station_min_temp_c'], axis=1)"
   ]
  },
  {
   "cell_type": "code",
   "execution_count": null,
   "metadata": {},
   "outputs": [],
   "source": [
    "plotter.figure()\n",
    "features_train_sj.loc[:, ['station_precip_mm']].plot(figsize=(100, 5))"
   ]
  },
  {
   "cell_type": "code",
   "execution_count": null,
   "metadata": {},
   "outputs": [],
   "source": [
    "plotter.figure()\n",
    "features_test_sj.loc[:, ['station_precip_mm']].plot(figsize=(100, 5))"
   ]
  },
  {
   "cell_type": "code",
   "execution_count": null,
   "metadata": {},
   "outputs": [],
   "source": [
    "features_train_sj.columns"
   ]
  },
  {
   "cell_type": "code",
   "execution_count": null,
   "metadata": {},
   "outputs": [],
   "source": [
    "features_test_sj.columns"
   ]
  },
  {
   "cell_type": "markdown",
   "metadata": {},
   "source": [
    "## Processing outliers"
   ]
  },
  {
   "cell_type": "code",
   "execution_count": null,
   "metadata": {},
   "outputs": [],
   "source": []
  },
  {
   "cell_type": "code",
   "execution_count": null,
   "metadata": {},
   "outputs": [],
   "source": []
  },
  {
   "cell_type": "markdown",
   "metadata": {},
   "source": [
    "## Impute missing values"
   ]
  },
  {
   "cell_type": "code",
   "execution_count": null,
   "metadata": {},
   "outputs": [],
   "source": [
    "features_train_sj = features_train_sj.interpolate()\n",
    "features_train_iq = features_train_iq.interpolate()\n",
    "features_test_iq = features_test_iq.interpolate()\n",
    "features_test_sj = features_test_sj.interpolate()"
   ]
  },
  {
   "cell_type": "markdown",
   "metadata": {},
   "source": [
    "## Preprocess training labels"
   ]
  },
  {
   "cell_type": "code",
   "execution_count": null,
   "metadata": {},
   "outputs": [],
   "source": [
    "labels_train = pandas.read_csv(filepath_or_buffer='dengue_labels_train.csv', usecols=[0, 3])"
   ]
  },
  {
   "cell_type": "code",
   "execution_count": null,
   "metadata": {},
   "outputs": [],
   "source": [
    "labels_train_sj = labels_train[labels_train['city'] == 'sj'].drop('city', 1)\n",
    "labels_train_iq = labels_train[labels_train['city'] == 'iq'].drop('city', 1)"
   ]
  },
  {
   "cell_type": "markdown",
   "metadata": {},
   "source": [
    "## Combine data and labels"
   ]
  },
  {
   "cell_type": "code",
   "execution_count": null,
   "metadata": {},
   "outputs": [],
   "source": [
    "features_train_sj_labels = pandas.concat([features_train_sj, labels_train_sj], axis=1)\n",
    "features_train_iq_labels = pandas.concat([features_train_iq, labels_train_iq], axis=1)"
   ]
  },
  {
   "cell_type": "markdown",
   "metadata": {},
   "source": [
    "## Get a little more insight"
   ]
  },
  {
   "cell_type": "code",
   "execution_count": null,
   "metadata": {},
   "outputs": [],
   "source": [
    "correlations_sj = features_train_sj_labels.corr()\n",
    "correlations_iq = features_train_iq_labels.corr()"
   ]
  },
  {
   "cell_type": "code",
   "execution_count": null,
   "metadata": {},
   "outputs": [],
   "source": [
    "plotter.figure(figsize=(8, 6))\n",
    "correlations_iq_heatmap = seaborn.heatmap(correlations_iq)\n",
    "plotter.title('Iquitos correlations')"
   ]
  },
  {
   "cell_type": "code",
   "execution_count": null,
   "metadata": {},
   "outputs": [],
   "source": [
    "plotter.figure(figsize=(8, 6))\n",
    "\n",
    "correlations_sj_heatmap = seaborn.heatmap(correlations_sj)\n",
    "plotter.title('San Juan correlations')"
   ]
  },
  {
   "cell_type": "code",
   "execution_count": null,
   "metadata": {},
   "outputs": [],
   "source": [
    "plotter.figure(figsize=(10, 5))\n",
    "(correlations_iq\n",
    "     .total_cases\n",
    "     .drop('total_cases') # don't compare with myself\n",
    "     .sort_values(ascending=False)\n",
    "     .plot\n",
    "     .barh())"
   ]
  },
  {
   "cell_type": "code",
   "execution_count": null,
   "metadata": {},
   "outputs": [],
   "source": [
    "plotter.figure(figsize=(10, 5))\n",
    "(correlations_sj\n",
    "     .total_cases\n",
    "     .drop('total_cases') # don't compare with myself\n",
    "     .sort_values(ascending=False)\n",
    "     .plot\n",
    "     .barh())"
   ]
  },
  {
   "cell_type": "code",
   "execution_count": null,
   "metadata": {},
   "outputs": [],
   "source": []
  },
  {
   "cell_type": "markdown",
   "metadata": {},
   "source": [
    "## Save the resultant datasets"
   ]
  },
  {
   "cell_type": "code",
   "execution_count": null,
   "metadata": {},
   "outputs": [],
   "source": [
    "features_train_sj.to_csv('./generated/dengue_features_train_sj.csv', index=False)\n",
    "features_test_sj.to_csv('./generated/dengue_features_test_sj.csv', index=False)\n",
    "features_train_iq.to_csv('./generated/dengue_features_train_iq.csv', index=False)\n",
    "features_test_iq.to_csv('./generated/dengue_features_test_iq.csv', index=False)"
   ]
  },
  {
   "cell_type": "code",
   "execution_count": null,
   "metadata": {},
   "outputs": [],
   "source": [
    "labels_train_sj.to_csv('./generated/dengue_labels_train_sj.csv', index=False)\n",
    "labels_train_iq.to_csv('./generated/dengue_labels_train_iq.csv', index=False)"
   ]
  },
  {
   "cell_type": "code",
   "execution_count": null,
   "metadata": {},
   "outputs": [],
   "source": [
    "features_train_sj_labels.to_csv('./generated/dengue_features_labels_train_sj.csv', index=False)\n",
    "features_train_iq_labels.to_csv('./generated/dengue_features_labels_train_iq.csv', index=False)"
   ]
  },
  {
   "cell_type": "markdown",
   "metadata": {},
   "source": [
    "## Smoothing and considering time series"
   ]
  },
  {
   "cell_type": "code",
   "execution_count": null,
   "metadata": {},
   "outputs": [],
   "source": [
    "features_train_iq_s1_labels = pandas.concat([\n",
    "    features_train_iq[['year', 'weekofyear']], # no smooth or repeat\n",
    "    features_train_iq[features_train_iq.columns.difference(['year', 'weekofyear'])]\n",
    "    .shift(1).rename(columns=lambda s: 's1_' + s).rolling(5).mean(),\n",
    "    features_train_iq[features_train_iq.columns.difference(['year', 'weekofyear'])].rolling(5).mean(),\n",
    "    labels_train_iq\n",
    "], axis=1).bfill()\n",
    "\n",
    "features_train_sj_s1_labels = pandas.concat([\n",
    "    features_train_sj[['year', 'weekofyear']], # no smooth or repeat\n",
    "    features_train_sj[features_train_sj.columns.difference(['year', 'weekofyear'])]\n",
    "    .shift(1).rename(columns=lambda s: 's1_' + s).rolling(5).mean(),\n",
    "    features_train_sj[features_train_sj.columns.difference(['year', 'weekofyear'])].rolling(5).mean(),\n",
    "    labels_train_sj\n",
    "], axis=1).bfill()"
   ]
  },
  {
   "cell_type": "code",
   "execution_count": null,
   "metadata": {},
   "outputs": [],
   "source": [
    "correlations_iq_s1 = features_train_iq_s1_labels.corr()\n",
    "correlations_sj_s1 = features_train_sj_s1_labels.corr()"
   ]
  },
  {
   "cell_type": "code",
   "execution_count": null,
   "metadata": {},
   "outputs": [],
   "source": [
    "plotter.figure(figsize=(8, 6))\n",
    "correlations_iq_s1_heatmap = seaborn.heatmap(correlations_iq_s1)\n",
    "plotter.title('Iquitos correlations')"
   ]
  },
  {
   "cell_type": "code",
   "execution_count": null,
   "metadata": {},
   "outputs": [],
   "source": [
    "plotter.figure(figsize=(8, 6))\n",
    "correlations_sj_s1_heatmap = seaborn.heatmap(correlations_sj_s1)\n",
    "plotter.title('Iquitos correlations')"
   ]
  },
  {
   "cell_type": "code",
   "execution_count": null,
   "metadata": {},
   "outputs": [],
   "source": [
    "plotter.figure(figsize=(10, 8))\n",
    "(correlations_iq_s1\n",
    "     .total_cases\n",
    "     .drop('total_cases') # don't compare with myself\n",
    "     .sort_values(ascending=False)\n",
    "     .plot\n",
    "     .barh())"
   ]
  },
  {
   "cell_type": "code",
   "execution_count": null,
   "metadata": {},
   "outputs": [],
   "source": [
    "plotter.figure(figsize=(10, 8))\n",
    "(correlations_sj_s1\n",
    "     .total_cases\n",
    "     .drop('total_cases') # don't compare with myself\n",
    "     .sort_values(ascending=False)\n",
    "     .plot\n",
    "     .barh())"
   ]
  },
  {
   "cell_type": "code",
   "execution_count": null,
   "metadata": {},
   "outputs": [],
   "source": [
    "features_train_iq_s1_labels.drop(['year'], axis=1).plot(figsize=(100, 8))"
   ]
  },
  {
   "cell_type": "code",
   "execution_count": null,
   "metadata": {},
   "outputs": [],
   "source": [
    "features_train_sj_s1_labels.drop(['year'], axis=1).plot(figsize=(100, 8))"
   ]
  },
  {
   "cell_type": "code",
   "execution_count": null,
   "metadata": {},
   "outputs": [],
   "source": [
    "features_test_iq_s1 = pandas.concat([\n",
    "    features_test_iq[['year', 'weekofyear']], # no smooth or repeat\n",
    "    features_test_iq[features_test_iq.columns.difference(['year', 'weekofyear'])]\n",
    "    .shift(1).rename(columns=lambda s: 's1_' + s).rolling(5).mean(),\n",
    "    features_test_iq[features_test_iq.columns.difference(['year', 'weekofyear'])].rolling(5).mean()\n",
    "], axis=1).bfill()\n",
    "\n",
    "features_test_sj_s1 = pandas.concat([\n",
    "    features_test_sj[['year', 'weekofyear']], # no smooth or repeat\n",
    "    features_test_sj[features_test_sj.columns.difference(['year', 'weekofyear'])]\n",
    "    .shift(1).rename(columns=lambda s: 's1_' + s).rolling(5).mean(),\n",
    "    features_test_sj[features_test_sj.columns.difference(['year', 'weekofyear'])].rolling(5).mean()\n",
    "], axis=1).bfill()"
   ]
  },
  {
   "cell_type": "code",
   "execution_count": null,
   "metadata": {},
   "outputs": [],
   "source": [
    "features_test_sj_s1.to_csv('./generated/dengue_features_test_s1_sj.csv', index=False)\n",
    "features_test_iq_s1.to_csv('./generated/dengue_features_test_s1_iq.csv', index=False)\n",
    "\n",
    "features_train_sj_s1_labels.to_csv('./generated/dengue_features_labels_train_s1_sj.csv', index=False)\n",
    "features_train_iq_s1_labels.to_csv('./generated/dengue_features_labels_train_s1_iq.csv', index=False)"
   ]
  },
  {
   "cell_type": "code",
   "execution_count": null,
   "metadata": {},
   "outputs": [],
   "source": []
  }
 ],
 "metadata": {
  "kernelspec": {
   "display_name": "Python 3",
   "language": "python",
   "name": "python3"
  },
  "language_info": {
   "codemirror_mode": {
    "name": "ipython",
    "version": 3
   },
   "file_extension": ".py",
   "mimetype": "text/x-python",
   "name": "python",
   "nbconvert_exporter": "python",
   "pygments_lexer": "ipython3",
   "version": "3.6.5"
  }
 },
 "nbformat": 4,
 "nbformat_minor": 2
}
