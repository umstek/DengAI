{
 "cells": [
  {
   "cell_type": "code",
   "execution_count": null,
   "metadata": {},
   "outputs": [],
   "source": [
    "import numpy\n",
    "import pandas\n",
    "import matplotlib.pyplot as plt\n",
    "\n",
    "from sklearn import ensemble, metrics, model_selection\n",
    "from sklearn.ensemble import RandomForestClassifier"
   ]
  },
  {
   "cell_type": "code",
   "execution_count": null,
   "metadata": {},
   "outputs": [],
   "source": [
    "features_iq_train = pandas.read_csv('./generated/dengue_features_train_iq.csv')\n",
    "labels_iq_train = pandas.read_csv('./generated/dengue_labels_train_iq.csv')\n",
    "features_sj_train = pandas.read_csv('./generated/dengue_features_train_sj.csv')\n",
    "labels_sj_train = pandas.read_csv('./generated/dengue_labels_train_sj.csv')"
   ]
  },
  {
   "cell_type": "code",
   "execution_count": null,
   "metadata": {},
   "outputs": [],
   "source": [
    "features_iq_test = pandas.read_csv('./generated/dengue_features_test_iq.csv')\n",
    "features_sj_test = pandas.read_csv('./generated/dengue_features_test_sj.csv')"
   ]
  },
  {
   "cell_type": "code",
   "execution_count": null,
   "metadata": {},
   "outputs": [],
   "source": []
  },
  {
   "cell_type": "code",
   "execution_count": null,
   "metadata": {},
   "outputs": [],
   "source": [
    "cvp = model_selection.KFold(n_splits=5, shuffle=False)"
   ]
  },
  {
   "cell_type": "code",
   "execution_count": null,
   "metadata": {},
   "outputs": [],
   "source": [
    "est = ensemble.GradientBoostingClassifier()"
   ]
  },
  {
   "cell_type": "code",
   "execution_count": null,
   "metadata": {},
   "outputs": [],
   "source": [
    "score_iq = model_selection.cross_validate(estimator=est, X=features_iq_train.loc[:, :], y=labels_iq_train['total_cases'], cv=cvp, scoring=['neg_mean_absolute_error', 'neg_mean_squared_error'], return_train_score=True)"
   ]
  },
  {
   "cell_type": "code",
   "execution_count": null,
   "metadata": {},
   "outputs": [],
   "source": [
    "score_iq"
   ]
  },
  {
   "cell_type": "code",
   "execution_count": null,
   "metadata": {},
   "outputs": [],
   "source": [
    "model_selection.GridSearchCV?"
   ]
  },
  {
   "cell_type": "code",
   "execution_count": null,
   "metadata": {},
   "outputs": [],
   "source": [
    "forest_iq = RandomForestClassifier(n_estimators=250, random_state=0, )#learning_rate=0.01)\n",
    "forest_sj = RandomForestClassifier(n_estimators=250, random_state=0, )#learning_rate=0.01)"
   ]
  },
  {
   "cell_type": "code",
   "execution_count": null,
   "metadata": {},
   "outputs": [],
   "source": [
    "forest_iq.fit(X=features_iq_train, y=labels_iq_train['total_cases'])\n",
    "forest_sj.fit(X=features_sj_train, y=labels_sj_train['total_cases'])"
   ]
  },
  {
   "cell_type": "code",
   "execution_count": null,
   "metadata": {},
   "outputs": [],
   "source": [
    "importances_iq = forest_iq.feature_importances_\n",
    "std_iq = numpy.std([tree.feature_importances_ for tree in forest_iq.estimators_], axis=0)\n",
    "indices_iq = numpy.argsort(importances_iq)[::-1]\n",
    "\n",
    "importances_sj = forest_sj.feature_importances_\n",
    "std_sj = numpy.std([tree.feature_importances_ for tree in forest_sj.estimators_], axis=0)\n",
    "indices_sj = numpy.argsort(importances_sj)[::-1]"
   ]
  },
  {
   "cell_type": "code",
   "execution_count": null,
   "metadata": {},
   "outputs": [],
   "source": [
    "# Print the feature ranking\n",
    "print(\"Feature ranking:\")\n",
    "\n",
    "for f in range(features_iq_train.shape[1]):\n",
    "    print(\"%d. %s (%f)\" % (f, features_iq_train.columns[f], importances_iq[indices_iq[f]]))\n",
    "\n",
    "# Plot the feature importances of the forest\n",
    "plt.figure()\n",
    "plt.title(\"Feature importances\")\n",
    "plt.bar(range(features_iq_train.shape[1]), importances_iq[indices_iq],\n",
    "       color=\"b\", yerr=std_iq[indices_iq], align=\"center\")\n",
    "plt.xticks(range(features_iq_train.shape[1]), indices_iq)\n",
    "plt.xlim([-1, features_iq_train.shape[1]])\n",
    "plt.show()"
   ]
  },
  {
   "cell_type": "code",
   "execution_count": null,
   "metadata": {},
   "outputs": [],
   "source": [
    "# Print the feature ranking\n",
    "print(\"Feature ranking:\")\n",
    "\n",
    "for f in range(features_sj_train.shape[1]):\n",
    "    print(\"%d. %s (%f)\" % (f, features_sj_train.columns[f], importances_sj[indices_sj[f]]))\n",
    "\n",
    "# Plot the feature importances of the forest\n",
    "plt.figure()\n",
    "plt.title(\"Feature importances\")\n",
    "plt.bar(range(features_sj_train.shape[1]), importances_sj[indices_sj],\n",
    "       color=\"r\", yerr=std_sj[indices_sj], align=\"center\")\n",
    "plt.xticks(range(features_sj_train.shape[1]), indices_sj)\n",
    "plt.xlim([-1, features_sj_train.shape[1]])\n",
    "plt.show()"
   ]
  }
 ],
 "metadata": {
  "kernelspec": {
   "display_name": "Python 3",
   "language": "python",
   "name": "python3"
  },
  "language_info": {
   "codemirror_mode": {
    "name": "ipython",
    "version": 3
   },
   "file_extension": ".py",
   "mimetype": "text/x-python",
   "name": "python",
   "nbconvert_exporter": "python",
   "pygments_lexer": "ipython3",
   "version": "3.6.6"
  }
 },
 "nbformat": 4,
 "nbformat_minor": 2
}
